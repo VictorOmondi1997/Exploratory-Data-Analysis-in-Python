{
 "cells": [
  {
   "attachments": {},
   "cell_type": "markdown",
   "metadata": {},
   "source": [
    "![Exploratory Data Analysis in Python](![image.png](attachment:image.png))\n",
    "\n",
    "# Read, clean, and validate\n",
    "\n",
    "## Exploring the NSFG data"
   ]
  },
  {
   "cell_type": "code",
   "execution_count": 9,
   "metadata": {},
   "outputs": [],
   "source": [
    "import pandas as pd\n",
    "import numpy as np"
   ]
  },
  {
   "cell_type": "code",
   "execution_count": 2,
   "metadata": {},
   "outputs": [
    {
     "data": {
      "text/html": [
       "<div>\n",
       "<style scoped>\n",
       "    .dataframe tbody tr th:only-of-type {\n",
       "        vertical-align: middle;\n",
       "    }\n",
       "\n",
       "    .dataframe tbody tr th {\n",
       "        vertical-align: top;\n",
       "    }\n",
       "\n",
       "    .dataframe thead th {\n",
       "        text-align: right;\n",
       "    }\n",
       "</style>\n",
       "<table border=\"1\" class=\"dataframe\">\n",
       "  <thead>\n",
       "    <tr style=\"text-align: right;\">\n",
       "      <th></th>\n",
       "      <th>caseid</th>\n",
       "      <th>outcome</th>\n",
       "      <th>birthwgt_lb1</th>\n",
       "      <th>birthwgt_oz1</th>\n",
       "      <th>prglngth</th>\n",
       "      <th>nbrnaliv</th>\n",
       "      <th>agecon</th>\n",
       "      <th>agepreg</th>\n",
       "      <th>hpagelb</th>\n",
       "      <th>wgt2013_2015</th>\n",
       "    </tr>\n",
       "  </thead>\n",
       "  <tbody>\n",
       "    <tr>\n",
       "      <th>0</th>\n",
       "      <td>60418</td>\n",
       "      <td>1</td>\n",
       "      <td>5.0</td>\n",
       "      <td>4.0</td>\n",
       "      <td>40</td>\n",
       "      <td>1.0</td>\n",
       "      <td>2000</td>\n",
       "      <td>2075.0</td>\n",
       "      <td>22.0</td>\n",
       "      <td>3554.964843</td>\n",
       "    </tr>\n",
       "    <tr>\n",
       "      <th>1</th>\n",
       "      <td>60418</td>\n",
       "      <td>1</td>\n",
       "      <td>4.0</td>\n",
       "      <td>12.0</td>\n",
       "      <td>36</td>\n",
       "      <td>1.0</td>\n",
       "      <td>2291</td>\n",
       "      <td>2358.0</td>\n",
       "      <td>25.0</td>\n",
       "      <td>3554.964843</td>\n",
       "    </tr>\n",
       "    <tr>\n",
       "      <th>2</th>\n",
       "      <td>60418</td>\n",
       "      <td>1</td>\n",
       "      <td>5.0</td>\n",
       "      <td>4.0</td>\n",
       "      <td>36</td>\n",
       "      <td>1.0</td>\n",
       "      <td>3241</td>\n",
       "      <td>3308.0</td>\n",
       "      <td>52.0</td>\n",
       "      <td>3554.964843</td>\n",
       "    </tr>\n",
       "    <tr>\n",
       "      <th>3</th>\n",
       "      <td>60419</td>\n",
       "      <td>6</td>\n",
       "      <td>NaN</td>\n",
       "      <td>NaN</td>\n",
       "      <td>33</td>\n",
       "      <td>NaN</td>\n",
       "      <td>3650</td>\n",
       "      <td>NaN</td>\n",
       "      <td>NaN</td>\n",
       "      <td>2484.535358</td>\n",
       "    </tr>\n",
       "    <tr>\n",
       "      <th>4</th>\n",
       "      <td>60420</td>\n",
       "      <td>1</td>\n",
       "      <td>8.0</td>\n",
       "      <td>13.0</td>\n",
       "      <td>41</td>\n",
       "      <td>1.0</td>\n",
       "      <td>2191</td>\n",
       "      <td>2266.0</td>\n",
       "      <td>24.0</td>\n",
       "      <td>2903.782914</td>\n",
       "    </tr>\n",
       "  </tbody>\n",
       "</table>\n",
       "</div>"
      ],
      "text/plain": [
       "   caseid  outcome  birthwgt_lb1  birthwgt_oz1  prglngth  nbrnaliv  agecon  \\\n",
       "0   60418        1           5.0           4.0        40       1.0    2000   \n",
       "1   60418        1           4.0          12.0        36       1.0    2291   \n",
       "2   60418        1           5.0           4.0        36       1.0    3241   \n",
       "3   60419        6           NaN           NaN        33       NaN    3650   \n",
       "4   60420        1           8.0          13.0        41       1.0    2191   \n",
       "\n",
       "   agepreg  hpagelb  wgt2013_2015  \n",
       "0   2075.0     22.0   3554.964843  \n",
       "1   2358.0     25.0   3554.964843  \n",
       "2   3308.0     52.0   3554.964843  \n",
       "3      NaN      NaN   2484.535358  \n",
       "4   2266.0     24.0   2903.782914  "
      ]
     },
     "execution_count": 2,
     "metadata": {},
     "output_type": "execute_result"
    }
   ],
   "source": [
    "nsfg = pd.read_csv(\"../datasets/nsfg.csv\")\n",
    "nsfg.head()"
   ]
  },
  {
   "cell_type": "markdown",
   "metadata": {},
   "source": [
    "### Number of Rows and Columns"
   ]
  },
  {
   "cell_type": "code",
   "execution_count": 3,
   "metadata": {},
   "outputs": [
    {
     "data": {
      "text/plain": [
       "(9358, 10)"
      ]
     },
     "execution_count": 3,
     "metadata": {},
     "output_type": "execute_result"
    }
   ],
   "source": [
    "nsfg.shape"
   ]
  },
  {
   "cell_type": "markdown",
   "metadata": {},
   "source": [
    "### Column Names"
   ]
  },
  {
   "cell_type": "code",
   "execution_count": 4,
   "metadata": {},
   "outputs": [
    {
     "data": {
      "text/plain": [
       "Index(['caseid', 'outcome', 'birthwgt_lb1', 'birthwgt_oz1', 'prglngth',\n",
       "       'nbrnaliv', 'agecon', 'agepreg', 'hpagelb', 'wgt2013_2015'],\n",
       "      dtype='object')"
      ]
     },
     "execution_count": 4,
     "metadata": {},
     "output_type": "execute_result"
    }
   ],
   "source": [
    "nsfg.columns"
   ]
  },
  {
   "cell_type": "code",
   "execution_count": 5,
   "metadata": {},
   "outputs": [
    {
     "data": {
      "text/plain": [
       "0     4.0\n",
       "1    12.0\n",
       "2     4.0\n",
       "3     NaN\n",
       "4    13.0\n",
       "Name: birthwgt_oz1, dtype: float64"
      ]
     },
     "execution_count": 5,
     "metadata": {},
     "output_type": "execute_result"
    }
   ],
   "source": [
    "ounces = nsfg.birthwgt_oz1\n",
    "ounces.head()"
   ]
  },
  {
   "cell_type": "markdown",
   "metadata": {},
   "source": [
    "## Clean and Validate\n",
    "\n",
    "### Validate a variable\n",
    "\n",
    "`'outcome'` encodes the outcome of each pregnancy as shown below:\n",
    "\n",
    "```python\n",
    "value\tlabel\n",
    "1\t    Live birth\n",
    "2\t    Induced abortion\n",
    "3\t    Stillbirth\n",
    "4\t    Miscarriage\n",
    "5\t    Ectopic pregnancy\n",
    "6\t    Current pregnancy\n",
    "```"
   ]
  },
  {
   "cell_type": "code",
   "execution_count": 7,
   "metadata": {},
   "outputs": [
    {
     "data": {
      "text/plain": [
       "1    6489\n",
       "2     947\n",
       "3      86\n",
       "4    1469\n",
       "5     118\n",
       "6     249\n",
       "Name: outcome, dtype: int64"
      ]
     },
     "execution_count": 7,
     "metadata": {},
     "output_type": "execute_result"
    }
   ],
   "source": [
    "nsfg.outcome.value_counts().sort_index()"
   ]
  },
  {
   "cell_type": "markdown",
   "metadata": {},
   "source": [
    "### Clean a variable\n",
    "\n",
    "`'nbrnaliv'` records the number of babies born alive at the end of a pregnancy."
   ]
  },
  {
   "cell_type": "code",
   "execution_count": 8,
   "metadata": {},
   "outputs": [
    {
     "data": {
      "text/plain": [
       "1.0    6379\n",
       "2.0     100\n",
       "3.0       5\n",
       "8.0       1\n",
       "Name: nbrnaliv, dtype: int64"
      ]
     },
     "execution_count": 8,
     "metadata": {},
     "output_type": "execute_result"
    }
   ],
   "source": [
    "nsfg.nbrnaliv.value_counts().sort_index()"
   ]
  },
  {
   "cell_type": "markdown",
   "metadata": {},
   "source": [
    "`8` appears once this value indicates that the respondent refused to answer the question. we will clean this"
   ]
  },
  {
   "cell_type": "code",
   "execution_count": 10,
   "metadata": {},
   "outputs": [
    {
     "data": {
      "text/plain": [
       "1.0    6379\n",
       "2.0     100\n",
       "3.0       5\n",
       "Name: nbrnaliv, dtype: int64"
      ]
     },
     "metadata": {},
     "output_type": "display_data"
    },
    {
     "data": {
      "text/plain": [
       "0.0        6\n",
       "1.0       34\n",
       "2.0       47\n",
       "3.0       67\n",
       "4.0      196\n",
       "5.0      586\n",
       "6.0     1666\n",
       "7.0     2146\n",
       "8.0     1168\n",
       "9.0      363\n",
       "10.0      82\n",
       "11.0      17\n",
       "12.0       7\n",
       "13.0       2\n",
       "14.0       2\n",
       "17.0       1\n",
       "Name: birthwgt_lb1, dtype: int64"
      ]
     },
     "metadata": {},
     "output_type": "display_data"
    },
    {
     "data": {
      "text/plain": [
       "0.0     757\n",
       "1.0     297\n",
       "2.0     429\n",
       "3.0     393\n",
       "4.0     386\n",
       "5.0     407\n",
       "6.0     543\n",
       "7.0     346\n",
       "8.0     518\n",
       "9.0     377\n",
       "10.0    295\n",
       "11.0    418\n",
       "12.0    388\n",
       "13.0    275\n",
       "14.0    258\n",
       "15.0    268\n",
       "Name: birthwgt_oz1, dtype: int64"
      ]
     },
     "metadata": {},
     "output_type": "display_data"
    }
   ],
   "source": [
    "nsfg.nbrnaliv.replace(8, np.nan, inplace=True)\n",
    "display(nsfg.nbrnaliv.value_counts().sort_index())\n",
    "\n",
    "nsfg.birthwgt_lb1.replace([98, 99], np.nan, inplace=True)\n",
    "display(nsfg.birthwgt_lb1.value_counts().sort_index())\n",
    "\n",
    "nsfg.birthwgt_oz1.replace([98, 99], np.nan, inplace=True)\n",
    "display(nsfg.birthwgt_oz1.value_counts().sort_index())"
   ]
  },
  {
   "cell_type": "markdown",
   "metadata": {},
   "source": [
    "### Compute a variable\n",
    "\n",
    "For each pregnancy in the NSFG dataset, the variable 'agecon' encodes the respondent's age at conception, and `'agepreg'` the respondent's age at the end of the pregnancy.\n",
    "\n",
    "Both variables are recorded as integers with two implicit decimal places, so the value `2575` means that the respondent's age was `25.75`."
   ]
  },
  {
   "cell_type": "code",
   "execution_count": 11,
   "metadata": {},
   "outputs": [
    {
     "data": {
      "text/plain": [
       "count    9109.000000\n",
       "mean        0.552069\n",
       "std         0.271479\n",
       "min         0.000000\n",
       "25%         0.250000\n",
       "50%         0.670000\n",
       "75%         0.750000\n",
       "max         0.920000\n",
       "Name: preg_length, dtype: float64"
      ]
     },
     "execution_count": 11,
     "metadata": {},
     "output_type": "execute_result"
    }
   ],
   "source": [
    "# Compute the difference\n",
    "nsfg['preg_length'] = (nsfg.agepreg/100) - (nsfg.agecon/100)\n",
    "\n",
    "# Compute summary statistics\n",
    "nsfg.preg_length.describe()"
   ]
  },
  {
   "cell_type": "markdown",
   "metadata": {},
   "source": [
    "## Filter and visualize\n"
   ]
  }
 ],
 "metadata": {
  "kernelspec": {
   "display_name": "Python 3",
   "language": "python",
   "name": "python3"
  },
  "language_info": {
   "codemirror_mode": {
    "name": "ipython",
    "version": 3
   },
   "file_extension": ".py",
   "mimetype": "text/x-python",
   "name": "python",
   "nbconvert_exporter": "python",
   "pygments_lexer": "ipython3",
   "version": "3.6.5"
  }
 },
 "nbformat": 4,
 "nbformat_minor": 4
}
